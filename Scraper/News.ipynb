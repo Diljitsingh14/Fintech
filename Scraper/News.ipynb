{
 "cells": [
  {
   "cell_type": "code",
   "execution_count": 1,
   "id": "c223300f",
   "metadata": {},
   "outputs": [],
   "source": [
    "import requests\n",
    "from bs4 import BeautifulSoup\n",
    "from datetime import datetime,timedelta\n",
    "import pandas as pd\n",
    "import re"
   ]
  },
  {
   "cell_type": "code",
   "execution_count": 2,
   "id": "b4e13afb",
   "metadata": {},
   "outputs": [
    {
     "name": "stdout",
     "output_type": "stream",
     "text": [
      "Last News on :  December 19, 2023 09:56 AM IST\n",
      "Total news :  803\n"
     ]
    }
   ],
   "source": [
    "base_url = \"https://www.moneycontrol.com/news/tags/companies.html\"\n",
    "\n",
    "is_appen_on_previous = True\n",
    "\n",
    "if is_appen_on_previous:\n",
    "    df = pd.read_csv('News.csv')\n",
    "    print(\"Last News on : \",df.iloc[0]['date time'])\n",
    "    print(\"Total news : \",len(df))\n",
    "    \n",
    "news_data = []"
   ]
  },
  {
   "cell_type": "code",
   "execution_count": 3,
   "id": "dd2ca55d",
   "metadata": {},
   "outputs": [],
   "source": [
    "def extractNewsData(news):\n",
    "    \"\"\"\n",
    "    Get insights of news component\n",
    "    \"\"\"\n",
    "    news_json = {}\n",
    "    \n",
    "    # Skip ad tag;\n",
    "    if not news.get('class') or 'clearfix' not in news.get('class'):\n",
    "        return \"ad\";\n",
    "    \n",
    "    a = news.find('a')\n",
    "    span = news.find('span')\n",
    "    \n",
    "    news_json['link'] = a.get('href')\n",
    "    news_json['title'] = a.get('title')\n",
    "    news_json['date time'] = span.text\n",
    "    \n",
    "    # Append on previous data\n",
    "    if is_appen_on_previous and news_json['date time'] == df.iloc[0]['date time']:\n",
    "        return None\n",
    "    \n",
    "    p = news.find_all('p')[0]\n",
    "    news_json['desc'] = p.text\n",
    "    news_json['content'] = getFullNewsText(news_json['link'])\n",
    "    return news_json\n",
    "\n",
    "def getFullNewsText(link:str):\n",
    "    \"\"\"\n",
    "    Get Full response or Full News Decription\n",
    "    \"\"\"\n",
    "    response = requests.get(link)\n",
    "    soup = BeautifulSoup(response.text,'html.parser')  \n",
    "    try:\n",
    "        paras = soup.find_all('div',id='contentdata')[0].find_all('p')\n",
    "        text = \"\"\n",
    "        for para in paras:\n",
    "            text += para.text\n",
    "    except Exception as err:\n",
    "        text = soup.find('p','pro_artidesc').text\n",
    "    \n",
    "    return text\n",
    "\n",
    "\n",
    "def fetchPage(page=None,verbose=True):\n",
    "    \"\"\"\n",
    "    Fetch News Entire page and extract the data\n",
    "    \"\"\"\n",
    "    \n",
    "    url = base_url\n",
    "    \n",
    "    # fetching base page\n",
    "    if page and page >= 2:\n",
    "        url = f\"{base_url}/page-{page}/\"\n",
    "    \n",
    "    # for processing details\n",
    "    if(verbose):\n",
    "        print(url)\n",
    "        \n",
    "    response = requests.get(url)   # get new html data\n",
    "    soup = BeautifulSoup(response.text,'html.parser')  # create soup  \n",
    "    news_ul = soup.find_all(\"ul\",id=\"cagetory\")[0]   # extract news data conponent\n",
    "    \n",
    "    # For Skips Ad Tag\n",
    "    if not news_ul:\n",
    "        return True\n",
    "    \n",
    "    li = news_ul.find_all('li')  # get list of news\n",
    "    for index,news in enumerate(li): # iterate news component for get more insights\n",
    "        \n",
    "        # logging\n",
    "        if(verbose):\n",
    "            print(index)\n",
    "            \n",
    "        # extract news insights\n",
    "        news_json = extractNewsData(news)\n",
    "        \n",
    "        # return none if news already in DB not want to duplicate and want not to continue\n",
    "        if not news_json:\n",
    "            return None\n",
    "        if news_json == 'ad':\n",
    "            continue\n",
    "        \n",
    "        # save data\n",
    "        news_data.append(news_json)\n",
    "        \n",
    "    # want not to continue if in the loop   \n",
    "    return True   \n",
    " \n",
    "# Convert Date string object to Date\n",
    "def getDateObject(dateString:str,dateFormat='%B %d, %Y %I:%M %p'):\n",
    "    dt_object = datetime.strptime(dateString, dateFormat)\n",
    "    return dt_object"
   ]
  },
  {
   "cell_type": "code",
   "execution_count": 4,
   "id": "fa1e2e65",
   "metadata": {
    "scrolled": true
   },
   "outputs": [
    {
     "name": "stdout",
     "output_type": "stream",
     "text": [
      "fetching page --  0\n",
      "https://www.moneycontrol.com/news/tags/companies.html\n",
      "0\n",
      "1\n",
      "2\n",
      "3\n",
      "4\n",
      "5\n",
      "6\n",
      "7\n",
      "8\n",
      "9\n",
      "10\n",
      "11\n"
     ]
    }
   ],
   "source": [
    "for page in [0,2,3,4,5,6,7]:\n",
    "    print(\"fetching page -- \",page)\n",
    "    if not fetchPage(page):\n",
    "        break"
   ]
  },
  {
   "cell_type": "code",
   "execution_count": 5,
   "id": "0bb1a669",
   "metadata": {},
   "outputs": [],
   "source": [
    "new_df = pd.DataFrame(news_data)"
   ]
  },
  {
   "cell_type": "code",
   "execution_count": 6,
   "id": "2f958e08",
   "metadata": {},
   "outputs": [],
   "source": [
    "new_df.drop_duplicates(inplace=True)"
   ]
  },
  {
   "cell_type": "code",
   "execution_count": 7,
   "id": "6437e95c",
   "metadata": {},
   "outputs": [],
   "source": [
    "pd.concat([new_df,df]).to_csv('News.csv',index=False)"
   ]
  },
  {
   "cell_type": "code",
   "execution_count": 56,
   "id": "e15dffcd",
   "metadata": {},
   "outputs": [],
   "source": [
    "def save_news(df,file_name=\"News.csv\",is_df=True):\n",
    "    if not is_df:\n",
    "        news_data = [d for d in df if d is not None ]\n",
    "        print(f'no. of news {len(news_data)}')\n",
    "        df = pd.DataFrame(news_data)\n",
    "    df.to_csv(file_name,index=False)"
   ]
  },
  {
   "cell_type": "code",
   "execution_count": 160,
   "id": "1364bcbc",
   "metadata": {},
   "outputs": [
    {
     "data": {
      "text/plain": [
       "'                        Highlights\\r\\n\\r\\n\\tGood operational and financial performance in Q2FY24\\r\\n\\tARPOB, clinical mix, volumes – all shaping up well\\r\\n\\tExpansion plans to support near-term growth\\r\\n\\tTrading at elevated valuation multiples\\r\\n\\r\\nMax Healthcare (Max; CMP: Rs 678; M Cap: Rs 65,909 crore; Rating: Equal-weight) has reported good Q2FY24 earnings as most key operating parameters remained supportive.\\r\\n\\r\\nA lot of factors are favourable for the healthcare sector — rising insurance penetration, higher per capita income, preference for quality healthcare, as well as government’s push for better healthcare infrastructure.\\r\\n\\r\\nWe reckon...\\n                    '"
      ]
     },
     "execution_count": 160,
     "metadata": {},
     "output_type": "execute_result"
    }
   ],
   "source": [
    "getFullNewsText(\"https://www.moneycontrol.com/news/business/stocks/max-healthcare-should-good-health-come-at-a-price-11884891.html\")"
   ]
  },
  {
   "cell_type": "code",
   "execution_count": 13,
   "id": "6e2b6314",
   "metadata": {},
   "outputs": [],
   "source": [
    "def getStockDetail(stockId):\n",
    "    st_res = requests.get(f'https://www.moneycontrol.com/techmvc/mc_apis/stock_details/?classic=true&sc_id={stockId}')\n",
    "    st_res_json = st_res.json()\n",
    "    st_res_json = st_res_json[stockId]['nse']\n",
    "    data = {}\n",
    "    data['new subsector'] = st_res_json['newSubsector']\n",
    "    data['subsector'] = st_res_json['SC_SUBSEC']\n",
    "    data['nse id'] = st_res_json['NSEID']\n",
    "    data['full name'] = st_res_json['SC_FULLNM']\n",
    "    data['main sector'] = st_res_json['main_sector']\n",
    "    return data"
   ]
  },
  {
   "cell_type": "code",
   "execution_count": 14,
   "id": "140f3eb0",
   "metadata": {},
   "outputs": [],
   "source": [
    "def getStockId(link,soup=None):\n",
    "    if not soup:\n",
    "        response = requests.get(link)\n",
    "        soup = BeautifulSoup(response.text,'html.parser')\n",
    "    stockwidget_div = soup.find('div', class_='stockwidget')\n",
    "    if not stockwidget_div:\n",
    "        return\n",
    "    js = stockwidget_div.find_next('script').text\n",
    "    match = re.search(r'\"stockId\":\"([^\"]+)\"', js)\n",
    "\n",
    "    if match:\n",
    "        stock_id_value = match.group(1)\n",
    "        print(\"Stock ID:\", stock_id_value)\n",
    "    else:\n",
    "        print(\"Stock ID not found.\")\n",
    "    return stock_id_value"
   ]
  },
  {
   "cell_type": "code",
   "execution_count": 66,
   "id": "f2dc8029",
   "metadata": {},
   "outputs": [
    {
     "data": {
      "text/plain": [
       "'https://www.moneycontrol.com/news/business/companies/zee-requests-sony-to-extend-effective-date-of-merger-ahead-of-december-21-cut-off-11916821.html'"
      ]
     },
     "execution_count": 66,
     "metadata": {},
     "output_type": "execute_result"
    }
   ],
   "source": [
    "df.iloc[15]['link']"
   ]
  },
  {
   "cell_type": "code",
   "execution_count": 68,
   "id": "95b79893",
   "metadata": {},
   "outputs": [
    {
     "name": "stdout",
     "output_type": "stream",
     "text": [
      "Stock ID: ZT\n"
     ]
    },
    {
     "data": {
      "text/plain": [
       "{'new subsector': 'TV Broadcasting & Software Production',\n",
       " 'subsector': 'Media & Entertainment',\n",
       " 'nse id': 'ZEEL',\n",
       " 'full name': 'Zee Entertainment Enterprises',\n",
       " 'main sector': 'Media & Entertainment'}"
      ]
     },
     "execution_count": 68,
     "metadata": {},
     "output_type": "execute_result"
    }
   ],
   "source": [
    "# df = pd.read_csv('news.csv')\n",
    "# for i in df['link']:\n",
    "#     stockId = getStockId(i)\n",
    "#     if(stockId):\n",
    "#         getStockDetail(stockId)\n",
    "\n",
    "link = df.iloc[15]['link']\n",
    "stockId = getStockId(link)\n",
    "# stockId\n",
    "getStockDetail(stockId)"
   ]
  },
  {
   "cell_type": "code",
   "execution_count": 69,
   "id": "d1896ba3",
   "metadata": {},
   "outputs": [
    {
     "data": {
      "text/plain": [
       "'December 17, 2023 08:10 PM'"
      ]
     },
     "execution_count": 69,
     "metadata": {},
     "output_type": "execute_result"
    }
   ],
   "source": [
    "df.iloc[15]['date time'][:-4]"
   ]
  },
  {
   "cell_type": "code",
   "execution_count": 70,
   "id": "cf952154",
   "metadata": {},
   "outputs": [
    {
     "data": {
      "text/plain": [
       "1702824000.0"
      ]
     },
     "execution_count": 70,
     "metadata": {},
     "output_type": "execute_result"
    }
   ],
   "source": [
    "dO = getDateObject(df.iloc[15]['date time'][:-4])\n",
    "dO.timestamp()"
   ]
  },
  {
   "cell_type": "code",
   "execution_count": 71,
   "id": "3fb6158a",
   "metadata": {},
   "outputs": [
    {
     "data": {
      "text/plain": [
       "1702910400.0"
      ]
     },
     "execution_count": 71,
     "metadata": {},
     "output_type": "execute_result"
    }
   ],
   "source": [
    "(dO+timedelta(days=1)).timestamp()"
   ]
  },
  {
   "cell_type": "code",
   "execution_count": 72,
   "id": "2a3c0780",
   "metadata": {},
   "outputs": [
    {
     "data": {
      "text/plain": [
       "1701960000"
      ]
     },
     "execution_count": 72,
     "metadata": {},
     "output_type": "execute_result"
    }
   ],
   "source": [
    "int((dO-timedelta(days=10)).timestamp())"
   ]
  },
  {
   "cell_type": "code",
   "execution_count": 73,
   "id": "66dca47e",
   "metadata": {},
   "outputs": [
    {
     "name": "stdout",
     "output_type": "stream",
     "text": [
      "{'s': 'ok', 't': [1701734400, 1701820800, 1701907200, 1701993600, 1702252800, 1702339200, 1702425600, 1702512000, 1702598400, 1702857600], 'o': [257.0, 253.8, 262.0, 280.0, 280.1, 285.9, 292.0, 286.95, 282.9, 270.85], 'h': [259.1, 259.3, 272.55, 283.85, 288.0, 299.7, 292.4, 288.0, 286.55, 282.0], 'l': [249.05, 252.8, 257.05, 271.7, 277.5, 282.5, 282.6, 259.1, 273.0, 266.0], 'c': [251.7, 258.05, 271.6, 278.95, 285.9, 289.05, 284.55, 277.9, 277.6, 280.5], 'v': [13066339, 14387456, 34243388, 42790651, 28275741, 61712266, 14187798, 35557081, 27948051, 26259529]}\n"
     ]
    }
   ],
   "source": [
    "url = \"https://priceapi.moneycontrol.com/techCharts/indianMarket/stock/history\"\n",
    "params = {\n",
    "    'symbol': 'ZEEL',\n",
    "    'resolution': '1D',\n",
    "    'from': '1701960000',\n",
    "    'to': '1702910400',\n",
    "    'countback': '10',\n",
    "    'currencyCode': 'INR'\n",
    "}\n",
    "\n",
    "headers = {\n",
    "    'authority': 'priceapi.moneycontrol.com',\n",
    "    'accept': '*/*',\n",
    "    'accept-language': 'en-GB,en-US;q=0.9,en;q=0.8,en-IN;q=0.7',\n",
    "    'origin': 'https://www.moneycontrol.com',\n",
    "    'referer': 'https://www.moneycontrol.com/',\n",
    "    'sec-ch-ua': '\"Not_A Brand\";v=\"8\", \"Chromium\";v=\"120\", \"Google Chrome\";v=\"120\"',\n",
    "    'sec-ch-ua-mobile': '?0',\n",
    "    'sec-ch-ua-platform': '\"Windows\"',\n",
    "    'sec-fetch-dest': 'empty',\n",
    "    'sec-fetch-mode': 'cors',\n",
    "    'sec-fetch-site': 'same-site',\n",
    "    'user-agent': 'Mozilla/5.0 (Windows NT 10.0; Win64; x64) AppleWebKit/537.36 (KHTML, like Gecko) Chrome/120.0.0.0 Safari/537.36',\n",
    "}\n",
    "\n",
    "response = requests.get(url, params=params, headers=headers)\n",
    "\n",
    "if response.status_code == 200:\n",
    "    data = response.json()\n",
    "    print(data)\n",
    "else:\n",
    "    print(f\"Request failed with status code {response.status_code}\")\n",
    "    print(response.text)"
   ]
  },
  {
   "cell_type": "code",
   "execution_count": 54,
   "id": "d6613b2f",
   "metadata": {},
   "outputs": [],
   "source": [
    "import matplotlib.pyplot as plt\n",
    "import seaborn as sb\n",
    "import matplotlib.dates as mdates\n",
    "from mplfinance.original_flavor import candlestick_ohlc\n",
    "import numpy as np"
   ]
  },
  {
   "cell_type": "code",
   "execution_count": 74,
   "id": "c84bfc10",
   "metadata": {},
   "outputs": [
    {
     "name": "stderr",
     "output_type": "stream",
     "text": [
      "C:\\Users\\jeetc\\AppData\\Local\\Temp\\ipykernel_2304\\1440246406.py:2: MatplotlibDeprecationWarning: The epoch2num function was deprecated in Matplotlib 3.5 and will be removed two minor releases later. Use ``[date2num(datetime.utcfromtimestamp(t)) for t in e]`` or numpy.datetime64 types instead.\n",
      "  dates = [mdates.epoch2num(timestamp) for timestamp in data['t']]\n"
     ]
    },
    {
     "data": {
      "image/png": "[encoded data removed]",
      "text/plain": [
       "<Figure size 640x480 with 2 Axes>"
      ]
     },
     "metadata": {},
     "output_type": "display_data"
    }
   ],
   "source": [
    "# Convert timestamps to dates\n",
    "dates = [mdates.epoch2num(timestamp) for timestamp in data['t']]\n",
    "\n",
    "# Create a list of OHLC (open, high, low, close) tuples\n",
    "ohlc = list(zip(dates, data['o'], data['h'], data['l'], data['c']))\n",
    "\n",
    "# Create a figure and axis with two subplots\n",
    "fig, (ax, ax2) = plt.subplots(2, 1, sharex=True, gridspec_kw={'height_ratios': [3, 1]})\n",
    "\n",
    "# Plot candlestick chart\n",
    "candlestick_ohlc(ax, ohlc, width=0.6, colorup='g', colordown='r', alpha=0.75)\n",
    "\n",
    "# Format x-axis as dates\n",
    "ax.xaxis_date()\n",
    "ax.xaxis.set_major_formatter(mdates.DateFormatter('%Y-%m-%d'))\n",
    "\n",
    "# Set axis labels\n",
    "ax.set_xlabel('Date')\n",
    "ax.set_ylabel('Price')\n",
    "\n",
    "# Plot volume bars\n",
    "bar_color = ['g' if close_price >= open_price else 'r' for open_price, close_price in zip(data['o'], data['c'])]\n",
    "ax2.bar(dates, data['v'], color=bar_color, alpha=0.5, width=0.6, align='center')\n",
    "\n",
    "# Set axis label for volume\n",
    "ax2.set_ylabel('Volume', color='b')\n",
    "\n",
    "# Adjust layout to avoid overlapping\n",
    "plt.tight_layout()\n",
    "\n",
    "# Show the plot\n",
    "plt.title('Stock Price Candlestick Chart with Volume')\n",
    "plt.show()"
   ]
  },
  {
   "cell_type": "code",
   "execution_count": 45,
   "id": "5629de10",
   "metadata": {},
   "outputs": [
    {
     "data": {
      "text/plain": [
       "<BarContainer object of 10 artists>"
      ]
     },
     "execution_count": 45,
     "metadata": {},
     "output_type": "execute_result"
    },
    {
     "data": {
      "image/png": "[encoded data removed]",
      "text/plain": [
       "<Figure size 640x480 with 1 Axes>"
      ]
     },
     "metadata": {},
     "output_type": "display_data"
    }
   ],
   "source": [
    "plt.plot(d['c'])\n",
    "plt.bar(range(10),d['v'])"
   ]
  },
  {
   "cell_type": "code",
   "execution_count": 144,
   "id": "e2348996",
   "metadata": {},
   "outputs": [
    {
     "data": {
      "text/plain": [
       "{'new subsector': 'Hotel, Resort & Restaurants',\n",
       " 'subsector': 'Hotels',\n",
       " 'nse id': 'INDHOTEL',\n",
       " 'full name': 'Indian Hotels Company',\n",
       " 'main sector': 'Hospitality'}"
      ]
     },
     "execution_count": 144,
     "metadata": {},
     "output_type": "execute_result"
    }
   ],
   "source": [
    "getStockDetail('IHC')"
   ]
  },
  {
   "cell_type": "code",
   "execution_count": 1,
   "id": "d85e7db4",
   "metadata": {},
   "outputs": [
    {
     "ename": "NameError",
     "evalue": "name 'requests' is not defined",
     "output_type": "error",
     "traceback": [
      "\u001b[1;31m---------------------------------------------------------------------------\u001b[0m",
      "\u001b[1;31mNameError\u001b[0m                                 Traceback (most recent call last)",
      "Cell \u001b[1;32mIn[1], line 16\u001b[0m\n\u001b[0;32m     13\u001b[0m         \u001b[38;5;28;01mreturn\u001b[39;00m \u001b[38;5;28;01mNone\u001b[39;00m\n\u001b[0;32m     15\u001b[0m \u001b[38;5;66;03m# Get the list of NSE companies\u001b[39;00m\n\u001b[1;32m---> 16\u001b[0m nse_companies \u001b[38;5;241m=\u001b[39m \u001b[43mget_nse_company_list\u001b[49m\u001b[43m(\u001b[49m\u001b[43m)\u001b[49m\n\u001b[0;32m     18\u001b[0m \u001b[38;5;66;03m# Print the list of companies\u001b[39;00m\n\u001b[0;32m     19\u001b[0m \u001b[38;5;28;01mif\u001b[39;00m nse_companies:\n",
      "Cell \u001b[1;32mIn[1], line 5\u001b[0m, in \u001b[0;36mget_nse_company_list\u001b[1;34m()\u001b[0m\n\u001b[0;32m      2\u001b[0m url \u001b[38;5;241m=\u001b[39m \u001b[38;5;124m'\u001b[39m\u001b[38;5;124mhttps://www.nseindia.com/api/equity-stockIndices\u001b[39m\u001b[38;5;124m'\u001b[39m\n\u001b[0;32m      3\u001b[0m headers \u001b[38;5;241m=\u001b[39m {\n\u001b[0;32m      4\u001b[0m     \u001b[38;5;124m'\u001b[39m\u001b[38;5;124mUser-Agent\u001b[39m\u001b[38;5;124m'\u001b[39m: \u001b[38;5;124m'\u001b[39m\u001b[38;5;124mMozilla/5.0 (Windows NT 10.0; Win64; x64) AppleWebKit/537.36 (KHTML, like Gecko) Chrome/58.0.3029.110 Safari/537.3\u001b[39m\u001b[38;5;124m'\u001b[39m}\n\u001b[1;32m----> 5\u001b[0m response \u001b[38;5;241m=\u001b[39m \u001b[43mrequests\u001b[49m\u001b[38;5;241m.\u001b[39mget(url, headers\u001b[38;5;241m=\u001b[39mheaders)\n\u001b[0;32m      7\u001b[0m \u001b[38;5;28;01mif\u001b[39;00m response\u001b[38;5;241m.\u001b[39mstatus_code \u001b[38;5;241m==\u001b[39m \u001b[38;5;241m200\u001b[39m:\n\u001b[0;32m      8\u001b[0m     data \u001b[38;5;241m=\u001b[39m response\u001b[38;5;241m.\u001b[39mjson()\n",
      "\u001b[1;31mNameError\u001b[0m: name 'requests' is not defined"
     ]
    }
   ],
   "source": [
    "def get_nse_company_list():\n",
    "    url = 'https://www.nseindia.com/api/equity-stockIndices'\n",
    "    headers = {\n",
    "        'User-Agent': 'Mozilla/5.0 (Windows NT 10.0; Win64; x64) AppleWebKit/537.36 (KHTML, like Gecko) Chrome/58.0.3029.110 Safari/537.3'}\n",
    "    response = requests.get(url, headers=headers)\n",
    "\n",
    "    if response.status_code == 200:\n",
    "        data = response.json()\n",
    "        companies = data['data']\n",
    "        return companies\n",
    "    else:\n",
    "        print(f\"Error: Unable to fetch data. Status code: {response.status_code}\")\n",
    "        return None\n",
    "\n",
    "# Get the list of NSE companies\n",
    "nse_companies = get_nse_company_list()\n",
    "\n",
    "# Print the list of companies\n",
    "if nse_companies:\n",
    "    for company in nse_companies:\n",
    "        print(f\"{company['symbol']} - {company['companyName']}\")"
   ]
  },
  {
   "cell_type": "code",
   "execution_count": null,
   "id": "eba5fe43",
   "metadata": {},
   "outputs": [],
   "source": [
    "url = 'https://www.nseindia.com/api/equity-stockIndices'\n",
    "headers = {\n",
    "        'User-Agent': 'Mozilla/5.0 (Windows NT 10.0; Win64; x64) AppleWebKit/537.36 (KHTML, like Gecko) Chrome/58.0.3029.110 Safari/537.3'}\n",
    "response = requests.get(url, headers=headers)\n",
    "data = response.json()\n"
   ]
  }
 ],
 "metadata": {
  "kernelspec": {
   "display_name": "Python 3 (ipykernel)",
   "language": "python",
   "name": "python3"
  },
  "language_info": {
   "codemirror_mode": {
    "name": "ipython",
    "version": 3
   },
   "file_extension": ".py",
   "mimetype": "text/x-python",
   "name": "python",
   "nbconvert_exporter": "python",
   "pygments_lexer": "ipython3",
   "version": "3.10.9"
  }
 },
 "nbformat": 4,
 "nbformat_minor": 5
}

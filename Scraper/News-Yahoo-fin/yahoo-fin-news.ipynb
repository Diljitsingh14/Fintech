{
 "cells": [
  {
   "cell_type": "code",
   "execution_count": 1,
   "id": "75cfc6b1",
   "metadata": {},
   "outputs": [],
   "source": [
    "import requests\n",
    "from bs4 import BeautifulSoup\n",
    "from datetime import datetime,timedelta\n",
    "import pandas as pd\n",
    "import re"
   ]
  },
  {
   "cell_type": "code",
   "execution_count": 2,
   "id": "6c530a05",
   "metadata": {},
   "outputs": [],
   "source": [
    "base_url = \"https://finance.yahoo.com/news/\"\n",
    "\n",
    "is_appen_on_previous = False\n",
    "\n",
    "if is_appen_on_previous:\n",
    "    df = pd.read_csv('News-yahoo.csv')\n",
    "    print(\"Last News on : \",df.iloc[0]['date time'])\n",
    "    print(\"Total news : \",len(df))\n",
    "    \n",
    "news_data = []"
   ]
  },
  {
   "cell_type": "code",
   "execution_count": 12,
   "id": "777ced6e",
   "metadata": {},
   "outputs": [],
   "source": [
    "response = requests.get(base_url)   # get new html data\n",
    "soup = BeautifulSoup(response.text,'html.parser')  # create soup  \n",
    "news_ul = soup.find_all(\"ul\",{\"class\":\"My(0) P(0) Wow(bw) Ov(h)\"})"
   ]
  },
  {
   "cell_type": "code",
   "execution_count": 21,
   "id": "9478139f",
   "metadata": {},
   "outputs": [
    {
     "data": {
      "text/plain": [
       "<ul class=\"My(0) P(0) Wow(bw) Ov(h)\"><li class=\"js-stream-content Pos(r)\"><div class=\"Py(14px) Pos(r)\" data-test-locator=\"mega\"><div class=\"Cf\"><div class=\"Ov(h) Pend(14%) Pend(44px)--sm1024\"><div class=\"C(#959595) Fz(11px) D(ib) Mb(6px)\">Reuters</div><h3 class=\"Mb(5px)\"><a class=\"js-content-viewer wafer-caas Fw(b) Fz(18px) Lh(23px) LineClamp(2,46px) Fz(17px)--sm1024 Lh(19px)--sm1024 LineClamp(2,38px)--sm1024 mega-item-header-link Td(n) C(#0078ff):h C(#000) LineClamp(2,46px) LineClamp(2,38px)--sm1024 not-isInStreamVideoEnabled\" data-uuid=\"858d9f81-3d0d-3c17-8e95-0422c588de50\" data-wf-caas-prefetch=\"1\" data-wf-caas-uuid=\"858d9f81-3d0d-3c17-8e95-0422c588de50\" href=\"/news/1-investor-ackmans-pershing-square-181716608.html\"><u class=\"StretchedBox\"></u>UPDATE 1-Investor Ackman's Pershing Square launches new fund aimed at US retail investors</a></h3><p class=\"Fz(14px) Lh(19px) Fz(13px)--sm1024 Lh(17px)--sm1024 LineClamp(3,57px) LineClamp(3,51px)--sm1024 M(0)\">Billionaire investor William Ackman is offering a new hedge fund to U.S.-based retail investors, allowing Main Street to tap into his double digit performance gains previously reserved for Wall Street clients.  Ackman's Pershing Square Capital Management said in a regulatory filing on Wednesday that the firm is launching Pershing Square USA, an investment vehicle that will be listed on the New York Stock Exchange.  There will be no minimum investment, the fund will charge a flat 2% fee every year after the first year and it will be available to retail investors who lack the net worth needed to invest in hedge funds.</p></div></div></div></li><li class=\"js-stream-content Pos(r)\"><div class=\"Py(14px) Pos(r)\" data-test-locator=\"mega\"><div class=\"Cf\"><div class=\"Fl(start) Pos(r) Mt(2px) W(26.5%) Maw(220px)\"><div class=\"H(0) Ov(h) Bdrs(2px)\" style=\"padding-bottom:56%\"><img alt=\"\" class=\"W(100%) Trsdu(0s)! Bdrs(2px)\" data-status=\"LOADING\" src=\"https://s.yimg.com/uu/api/res/1.2/s3pcRA787RbX.0BKMCi8Jw--~B/Zmk9c3RyaW07aD0xMjM7cT04MDt3PTIyMDthcHBpZD15dGFjaHlvbg--/https://s.yimg.com/os/creatr-uploaded-images/2024-01/afff5830-c5df-11ee-b6ed-d4c496a9b957.cf.jpg\" srcset=\"https://s.yimg.com/uu/api/res/1.2/s3pcRA787RbX.0BKMCi8Jw--~B/Zmk9c3RyaW07aD0xMjM7cT04MDt3PTIyMDthcHBpZD15dGFjaHlvbg--/https://s.yimg.com/os/creatr-uploaded-images/2024-01/afff5830-c5df-11ee-b6ed-d4c496a9b957.cf.jpg 1x,https://s.yimg.com/uu/api/res/1.2/xgfw67sYhwGibufBnDbddw--~B/Zmk9c3RyaW07aD0yNDY7cT04MDt3PTQ0MDthcHBpZD15dGFjaHlvbg--/https://s.yimg.com/os/creatr-uploaded-images/2024-01/afff5830-c5df-11ee-b6ed-d4c496a9b957.cf.jpg 2x\"/><span class=\"StretchedBox M(a) lightweight_D(n) Trsdu(0s)!\" data-status=\"LOADED\" dir=\"ltr\" style=\"height:50px;width:50px;background-size:50px;background-image:url(https://s.yimg.com/cv/apiv2/default/20200910/Oval_x3.png)\"><svg class=\"D(b) Pos(r) Mstart(2px) Cur(p)\" data-icon=\"CorePlay\" height=\"20\" style=\"left:15px;top:15px;fill:#fff;stroke:#fff;stroke-width:0;vertical-align:bottom\" viewbox=\"0 0 512 512\" width=\"20\"><path d=\"M82.294 490.295c-20.327 11.736-36.952 2.14-36.952-21.332V42.295c0-23.472 16.632-33.055 36.952-21.332L451.67 234.295c20.318 11.75 20.318 30.945 0 42.682L82.294 490.295z\"></path></svg></span></div></div><div class=\"Ov(h) Pend(44px) Pstart(25px)\"><div class=\"C(#959595) Fz(11px) D(ib) Mb(6px)\">Yahoo Finance Video</div><h3 class=\"Mb(5px)\"><a class=\"js-content-viewer wafer-caas Fw(b) Fz(18px) Lh(23px) LineClamp(2,46px) Fz(17px)--sm1024 Lh(19px)--sm1024 LineClamp(2,38px)--sm1024 mega-item-header-link Td(n) C(#0078ff):h C(#000) LineClamp(2,46px) LineClamp(2,38px)--sm1024 not-isInStreamVideoEnabled\" data-uuid=\"7ce6d686-792f-3ee5-8fdb-ce26d08e561e\" data-wf-caas-prefetch=\"1\" data-wf-caas-uuid=\"7ce6d686-792f-3ee5-8fdb-ce26d08e561e\" href=\"/video/las-vegas-fun-economy-holds-181637777.html\"><u class=\"StretchedBox\"></u>Las Vegas' 'fun economy' holds value of up to $13.7T: UNLV</a></h3><p class=\"Fz(14px) Lh(19px) Fz(13px)--sm1024 Lh(17px)--sm1024 LineClamp(2,38px) LineClamp(2,34px)--sm1024 M(0)\">Las Vegas's so-called \"fun economy\" is worth an astonishing $13.7 trillion when accounting for tourism, sports, and entertainment revenue streams, according to the University of Nevada, Las Vegas' Zero Labs. This dwarfs the size of major sectors like healthcare, with Las Vegas' leisure and hospitality ecosystem estimated to be nearly 9 times larger than Big Pharma. These figures come as Nevada's Sin City preps to accommodate visiting football fans for the Super Bowl this Sunday, February 11. Yahoo Finance's Rachelle Akuffo and Akiko Fujita break down the details. For more expert insight and the latest market action, click here to watch this full episode of Yahoo Finance Live. Editor's note: This article was written by Angel Smith</p></div></div></div></li><li class=\"js-stream-content Pos(r)\"><div class=\"Py(14px) Pos(r)\" data-test-locator=\"mega\"><div class=\"Cf\"><div class=\"Fl(start) Pos(r) Mt(2px) W(26.5%) Maw(220px)\"><div class=\"H(0) Ov(h) Bdrs(2px)\" style=\"padding-bottom:56%\"><img alt=\"\" class=\"W(100%) Trsdu(0s)! Bdrs(2px)\" data-status=\"LOADING\" src=\"https://s.yimg.com/uu/api/res/1.2/tXi.O9tNrHq7KYrcl8vZ2A--~B/Zmk9c3RyaW07aD0xMjM7cT04MDt3PTIyMDthcHBpZD15dGFjaHlvbg--/https://media.zenfs.com/en/bloomberg_markets_842/449428008f0adc36a61c528fb8f7c6a9.cf.jpg\" srcset=\"https://s.yimg.com/uu/api/res/1.2/tXi.O9tNrHq7KYrcl8vZ2A--~B/Zmk9c3RyaW07aD0xMjM7cT04MDt3PTIyMDthcHBpZD15dGFjaHlvbg--/https://media.zenfs.com/en/bloomberg_markets_842/449428008f0adc36a61c528fb8f7c6a9.cf.jpg 1x,https://s.yimg.com/uu/api/res/1.2/YzL59W9BOI.w3c2ZvtS_nQ--~B/Zmk9c3RyaW07aD0yNDY7cT04MDt3PTQ0MDthcHBpZD15dGFjaHlvbg--/https://media.zenfs.com/en/bloomberg_markets_842/449428008f0adc36a61c528fb8f7c6a9.cf.jpg 2x\"/></div></div><div class=\"Ov(h) Pend(44px) Pstart(25px)\"><div class=\"C(#959595) Fz(11px) D(ib) Mb(6px)\">Bloomberg</div><h3 class=\"Mb(5px)\"><a class=\"js-content-viewer wafer-caas Fw(b) Fz(18px) Lh(23px) LineClamp(2,46px) Fz(17px)--sm1024 Lh(19px)--sm1024 LineClamp(2,38px)--sm1024 mega-item-header-link Td(n) C(#0078ff):h C(#000) LineClamp(2,46px) LineClamp(2,38px)--sm1024 not-isInStreamVideoEnabled\" data-uuid=\"4f141a18-18ca-3d3c-bbc7-03e85c186289\" data-wf-caas-prefetch=\"1\" data-wf-caas-uuid=\"4f141a18-18ca-3d3c-bbc7-03e85c186289\" href=\"/news/us-bonds-rebound-china-bets-225511320.html\"><u class=\"StretchedBox\"></u>S&amp;P 500 Near 5,000 as Bonds Pare Drop After Sale: Markets Wrap</a></h3><p class=\"Fz(14px) Lh(19px) Fz(13px)--sm1024 Lh(17px)--sm1024 LineClamp(2,38px) LineClamp(2,34px)--sm1024 M(0)\">(Bloomberg) -- Stocks climbed — with the S&amp;P 500 approaching its 5,000 milestone — while bonds pared losses after a record sale of 10-year Treasuries.Most Read from BloombergChina Replaces Top Markets Regulator as Xi Tries to End RoutHaley Loses Nevada Primary to ‘None of These Candidates’ OptionTesla Asks Which Jobs Are Critical, Stoking Layoff FearsTrump Denied Immunity in DC Election Case by Appeals CourtUS Commercial Real Estate Contagion Is Now Moving to EuropeEquities extended a torrid sur</p></div></div></div></li><li class=\"js-stream-content Pos(r)\"><div class=\"Py(14px) Pos(r)\" data-test-locator=\"mega\"><div class=\"Cf\"><div class=\"Fl(start) Pos(r) Mt(2px) W(26.5%) Maw(220px)\"><div class=\"H(0) Ov(h) Bdrs(2px)\" style=\"padding-bottom:56%\"><img alt=\"\" class=\"W(100%) Trsdu(0s)! Bdrs(2px)\" data-status=\"LOADING\" src=\"https://s.yimg.com/uu/api/res/1.2/hVvm8jLB86tBtll0Q80VgQ--~B/Zmk9c3RyaW07aD0xMjM7cT04MDt3PTIyMDthcHBpZD15dGFjaHlvbg--/https://s.yimg.com/os/creatr-uploaded-images/2024-02/0ae27950-c5de-11ee-97ee-3ee53195eec5.cf.jpg\" srcset=\"https://s.yimg.com/uu/api/res/1.2/hVvm8jLB86tBtll0Q80VgQ--~B/Zmk9c3RyaW07aD0xMjM7cT04MDt3PTIyMDthcHBpZD15dGFjaHlvbg--/https://s.yimg.com/os/creatr-uploaded-images/2024-02/0ae27950-c5de-11ee-97ee-3ee53195eec5.cf.jpg 1x,https://s.yimg.com/uu/api/res/1.2/rgbcKKADiQ9d3jDwM.4vQQ--~B/Zmk9c3RyaW07aD0yNDY7cT04MDt3PTQ0MDthcHBpZD15dGFjaHlvbg--/https://s.yimg.com/os/creatr-uploaded-images/2024-02/0ae27950-c5de-11ee-97ee-3ee53195eec5.cf.jpg 2x\"/><span class=\"StretchedBox M(a) lightweight_D(n) Trsdu(0s)!\" data-status=\"LOADED\" dir=\"ltr\" style=\"height:50px;width:50px;background-size:50px;background-image:url(https://s.yimg.com/cv/apiv2/default/20200910/Oval_x3.png)\"><svg class=\"D(b) Pos(r) Mstart(2px) Cur(p)\" data-icon=\"CorePlay\" height=\"20\" style=\"left:15px;top:15px;fill:#fff;stroke:#fff;stroke-width:0;vertical-align:bottom\" viewbox=\"0 0 512 512\" width=\"20\"><path d=\"M82.294 490.295c-20.327 11.736-36.952 2.14-36.952-21.332V42.295c0-23.472 16.632-33.055 36.952-21.332L451.67 234.295c20.318 11.75 20.318 30.945 0 42.682L82.294 490.295z\"></path></svg></span></div></div><div class=\"Ov(h) Pend(44px) Pstart(25px)\"><div class=\"C(#959595) Fz(11px) D(ib) Mb(6px)\">Yahoo Finance Video</div><h3 class=\"Mb(5px)\"><a class=\"js-content-viewer wafer-caas Fw(b) Fz(18px) Lh(23px) LineClamp(2,46px) Fz(17px)--sm1024 Lh(19px)--sm1024 LineClamp(2,38px)--sm1024 mega-item-header-link Td(n) C(#0078ff):h C(#000) LineClamp(2,46px) LineClamp(2,38px)--sm1024 not-isInStreamVideoEnabled\" data-uuid=\"835cf978-d3d1-36b6-a8c1-ddc5d4d5554a\" data-wf-caas-prefetch=\"1\" data-wf-caas-uuid=\"835cf978-d3d1-36b6-a8c1-ddc5d4d5554a\" href=\"/video/pros-cons-moving-income-tax-180514885.html\"><u class=\"StretchedBox\"></u>Pros and cons of moving to a new income tax state</a></h3><p class=\"Fz(14px) Lh(19px) Fz(13px)--sm1024 Lh(17px)--sm1024 LineClamp(2,38px) LineClamp(2,34px)--sm1024 M(0)\">According to U-Haul's 2023 growth index, Americans flocked to Texas and Florida and that, for the fourth year in a row, the state of California had the largest net loss of one-way movers. One of the reasons behind this move may be due to the fact that Florida and Texas are no income tax states. While having no income tax seems cost friendly, there are some down sides that Americans should keep in mind before making the big move. Yahoo Finance Reporter Rebecca Chen joins Yahoo Finance to help give insight into the pros and cons of moving to no income tax states. For more expert insight and the latest market action, click here to watch this full episode of Yahoo Finance Live. Editor's note: This article was written by Nicholas Jacobino</p></div></div></div></li><li class=\"js-stream-content Pos(r)\"><div class=\"Py(14px) Pos(r)\" data-test-locator=\"mega\"><div class=\"Cf\"><div class=\"Ov(h) Pend(14%) Pend(44px)--sm1024\"><div class=\"C(#959595) Fz(11px) D(ib) Mb(6px)\">Reuters</div><h3 class=\"Mb(5px)\"><a class=\"js-content-viewer wafer-caas Fw(b) Fz(18px) Lh(23px) LineClamp(2,46px) Fz(17px)--sm1024 Lh(19px)--sm1024 LineClamp(2,38px)--sm1024 mega-item-header-link Td(n) C(#0078ff):h C(#000) LineClamp(2,46px) LineClamp(2,38px)--sm1024 not-isInStreamVideoEnabled\" data-uuid=\"1c8ebd08-9dfd-3534-89f5-6529f3ba6876\" data-wf-caas-prefetch=\"1\" data-wf-caas-uuid=\"1c8ebd08-9dfd-3534-89f5-6529f3ba6876\" href=\"/news/tradestation-pay-3-mln-settle-180439948.html\"><u class=\"StretchedBox\"></u>TradeStation to pay $3 mln to settle charges from SEC, states over unregistered crypto product</a></h3><p class=\"Fz(14px) Lh(19px) Fz(13px)--sm1024 Lh(17px)--sm1024 LineClamp(3,57px) LineClamp(3,51px)--sm1024 M(0)\">Cryptocurrency platform TradeStation Crypto will pay $3 million to settle charges from the U.S. securities regulator and multiple states that it offered and sold unregistered securities through an interest-earning program.  TradeStation failed to register its crypto lending product that allowed U.S. investors to deposit or purchase assets on TradeStation's platform in exchange for yield, the Securities and Exchange Commission said.</p></div></div></div></li><li class=\"js-stream-content Pos(r)\"><div class=\"Py(14px) Pos(r)\" data-test-locator=\"mega\"><div class=\"Cf\"><div class=\"Fl(start) Pos(r) Mt(2px) W(26.5%) Maw(220px)\"><div class=\"H(0) Ov(h) Bdrs(2px)\" style=\"padding-bottom:56%\"><img alt=\"\" class=\"W(100%) Trsdu(0s)! Bdrs(2px)\" data-status=\"LOADING\" src=\"https://s.yimg.com/uu/api/res/1.2/hq8qWVqPdtyKB48gS5JIeQ--~B/Zmk9c3RyaW07aD0xMjM7cT04MDt3PTIyMDthcHBpZD15dGFjaHlvbg--/https://s.yimg.com/os/creatr-uploaded-images/2024-02/026fc360-c5dc-11ee-9f1f-f95cc73bf484.cf.jpg\" srcset=\"https://s.yimg.com/uu/api/res/1.2/hq8qWVqPdtyKB48gS5JIeQ--~B/Zmk9c3RyaW07aD0xMjM7cT04MDt3PTIyMDthcHBpZD15dGFjaHlvbg--/https://s.yimg.com/os/creatr-uploaded-images/2024-02/026fc360-c5dc-11ee-9f1f-f95cc73bf484.cf.jpg 1x,https://s.yimg.com/uu/api/res/1.2/nGD_6sl1Q6oANW6PpU81_g--~B/Zmk9c3RyaW07aD0yNDY7cT04MDt3PTQ0MDthcHBpZD15dGFjaHlvbg--/https://s.yimg.com/os/creatr-uploaded-images/2024-02/026fc360-c5dc-11ee-9f1f-f95cc73bf484.cf.jpg 2x\"/><span class=\"StretchedBox M(a) lightweight_D(n) Trsdu(0s)!\" data-status=\"LOADED\" dir=\"ltr\" style=\"height:50px;width:50px;background-size:50px;background-image:url(https://s.yimg.com/cv/apiv2/default/20200910/Oval_x3.png)\"><svg class=\"D(b) Pos(r) Mstart(2px) Cur(p)\" data-icon=\"CorePlay\" height=\"20\" style=\"left:15px;top:15px;fill:#fff;stroke:#fff;stroke-width:0;vertical-align:bottom\" viewbox=\"0 0 512 512\" width=\"20\"><path d=\"M82.294 490.295c-20.327 11.736-36.952 2.14-36.952-21.332V42.295c0-23.472 16.632-33.055 36.952-21.332L451.67 234.295c20.318 11.75 20.318 30.945 0 42.682L82.294 490.295z\"></path></svg></span></div></div><div class=\"Ov(h) Pend(44px) Pstart(25px)\"><div class=\"C(#959595) Fz(11px) D(ib) Mb(6px)\">Yahoo Finance Video</div><h3 class=\"Mb(5px)\"><a class=\"js-content-viewer wafer-caas Fw(b) Fz(18px) Lh(23px) LineClamp(2,46px) Fz(17px)--sm1024 Lh(19px)--sm1024 LineClamp(2,38px)--sm1024 mega-item-header-link Td(n) C(#0078ff):h C(#000) LineClamp(2,46px) LineClamp(2,38px)--sm1024 not-isInStreamVideoEnabled\" data-uuid=\"3be8eb01-5acb-3c44-aaef-a011f468bd45\" data-wf-caas-prefetch=\"1\" data-wf-caas-uuid=\"3be8eb01-5acb-3c44-aaef-a011f468bd45\" href=\"/video/snaps-limited-reach-hampers-ad-180318996.html\"><u class=\"StretchedBox\"></u>Snap's limited reach hampers ad growth compared to rivals</a></h3><p class=\"Fz(14px) Lh(19px) Fz(13px)--sm1024 Lh(17px)--sm1024 LineClamp(2,38px) LineClamp(2,34px)--sm1024 M(0)\">Snap Inc. (SNAP) — the parent company of Snapchat — faces an uphill battle competing against other social media platforms for digital advertising revenue, Insider Intelligence Senior Director Jeremy Goldman tells Yahoo Finance. Snap shares have plunged on light 2024 guidance, as Goldman outlines it's a \"huge challenge\" for Snap to take on bigger players like Meta (META) for ad dollars. While Snap has its unique strengths, Goldman calls it a \"niche\" as advertisers consolidate budgets. For more expert insight and the latest market action, click here to watch this full episode of Yahoo Finance Live. Editor's note: This article was written by Angel Smith</p></div></div></div></li><li class=\"js-stream-content Pos(r)\"><div class=\"Py(14px) Pos(r)\" data-test-locator=\"mega\"><div class=\"Cf\"><div class=\"Fl(start) Pos(r) Mt(2px) W(26.5%) Maw(220px)\"><div class=\"H(0) Ov(h) Bdrs(2px)\" style=\"padding-bottom:56%\"><img alt=\"\" class=\"W(100%) Trsdu(0s)! Bdrs(2px)\" data-status=\"LOADING\" src=\"https://s.yimg.com/uu/api/res/1.2/048NBhw4Fqyl.dnVV2jd7A--~B/Zmk9c3RyaW07aD0xMjM7cT04MDt3PTIyMDthcHBpZD15dGFjaHlvbg--/https://media.zenfs.com/en/bloomberg_markets_842/a290e1e9fd584c28c200a87fde6dfd1b.cf.jpg\" srcset=\"https://s.yimg.com/uu/api/res/1.2/048NBhw4Fqyl.dnVV2jd7A--~B/Zmk9c3RyaW07aD0xMjM7cT04MDt3PTIyMDthcHBpZD15dGFjaHlvbg--/https://media.zenfs.com/en/bloomberg_markets_842/a290e1e9fd584c28c200a87fde6dfd1b.cf.jpg 1x,https://s.yimg.com/uu/api/res/1.2/6Jrgg98ZTaPMO8NIu8TOBQ--~B/Zmk9c3RyaW07aD0yNDY7cT04MDt3PTQ0MDthcHBpZD15dGFjaHlvbg--/https://media.zenfs.com/en/bloomberg_markets_842/a290e1e9fd584c28c200a87fde6dfd1b.cf.jpg 2x\"/></div></div><div class=\"Ov(h) Pend(44px) Pstart(25px)\"><div class=\"C(#959595) Fz(11px) D(ib) Mb(6px)\">Bloomberg</div><h3 class=\"Mb(5px)\"><a class=\"js-content-viewer wafer-caas Fw(b) Fz(18px) Lh(23px) LineClamp(2,46px) Fz(17px)--sm1024 Lh(19px)--sm1024 LineClamp(2,38px)--sm1024 mega-item-header-link Td(n) C(#0078ff):h C(#000) LineClamp(2,46px) LineClamp(2,38px)--sm1024 not-isInStreamVideoEnabled\" data-uuid=\"328096c4-55ca-3856-9836-4de6456575fb\" data-wf-caas-prefetch=\"1\" data-wf-caas-uuid=\"328096c4-55ca-3856-9836-4de6456575fb\" href=\"/news/couche-tard-gets-10-billion-133320509.html\"><u class=\"StretchedBox\"></u>Couche-Tard Gets €10 Billion in Orders to Refinance M&amp;A Debt</a></h3><p class=\"Fz(14px) Lh(19px) Fz(13px)--sm1024 Lh(17px)--sm1024 LineClamp(2,38px) LineClamp(2,34px)--sm1024 M(0)\">(Bloomberg) -- Alimentation Couche-Tard Inc., which recently completed the purchase of almost 2,200 gasoline stations in Europe from TotalEnergies SE, got close to €10 billion ($10.8 billion) in orders for its first bond deal in the common currency in almost eight years to refinance acquisition debt. Most Read from BloombergChina Replaces Top Markets Regulator as Xi Tries to End RoutHaley Loses Nevada Primary to ‘None of These Candidates’ OptionTesla Asks Which Jobs Are Critical, Stoking Layoff</p></div></div></div></li><li class=\"js-stream-content Pos(r)\"><div class=\"Py(14px) Pos(r)\" data-test-locator=\"mega\"><div class=\"Cf\"><div class=\"Fl(start) Pos(r) Mt(2px) W(26.5%) Maw(220px)\"><div class=\"H(0) Ov(h) Bdrs(2px)\" style=\"padding-bottom:56%\"><img alt=\"\" class=\"W(100%) Trsdu(0s)! Bdrs(2px)\" data-status=\"LOADING\" src=\"https://s.yimg.com/uu/api/res/1.2/350odkyY8zkwGnF6PxioKw--~B/Zmk9c3RyaW07aD0xMjM7cT04MDt3PTIyMDthcHBpZD15dGFjaHlvbg--/https://media.zenfs.com/en/bloomberg_markets_842/3b51cc0c1d86307d0b764fdd4e0a1ec1.cf.jpg\" srcset=\"https://s.yimg.com/uu/api/res/1.2/350odkyY8zkwGnF6PxioKw--~B/Zmk9c3RyaW07aD0xMjM7cT04MDt3PTIyMDthcHBpZD15dGFjaHlvbg--/https://media.zenfs.com/en/bloomberg_markets_842/3b51cc0c1d86307d0b764fdd4e0a1ec1.cf.jpg 1x,https://s.yimg.com/uu/api/res/1.2/u8W26cOojqQCThMQhRq7AA--~B/Zmk9c3RyaW07aD0yNDY7cT04MDt3PTQ0MDthcHBpZD15dGFjaHlvbg--/https://media.zenfs.com/en/bloomberg_markets_842/3b51cc0c1d86307d0b764fdd4e0a1ec1.cf.jpg 2x\"/></div></div><div class=\"Ov(h) Pend(44px) Pstart(25px)\"><div class=\"C(#959595) Fz(11px) D(ib) Mb(6px)\">Bloomberg</div><h3 class=\"Mb(5px)\"><a class=\"js-content-viewer wafer-caas Fw(b) Fz(18px) Lh(23px) LineClamp(2,46px) Fz(17px)--sm1024 Lh(19px)--sm1024 LineClamp(2,38px)--sm1024 mega-item-header-link Td(n) C(#0078ff):h C(#000) LineClamp(2,46px) LineClamp(2,38px)--sm1024 not-isInStreamVideoEnabled\" data-uuid=\"de5ed8b8-516c-3bf1-ac51-780bb7b7d60e\" data-wf-caas-prefetch=\"1\" data-wf-caas-uuid=\"de5ed8b8-516c-3bf1-ac51-780bb7b7d60e\" href=\"/news/fed-collins-sees-interest-rate-163000536.html\"><u class=\"StretchedBox\"></u>Fed’s Collins Sees Interest-Rate Cuts Coming ‘Later This Year’</a></h3><p class=\"Fz(14px) Lh(19px) Fz(13px)--sm1024 Lh(17px)--sm1024 LineClamp(2,38px) LineClamp(2,34px)--sm1024 M(0)\">(Bloomberg) -- Federal Reserve Bank of Boston President Susan Collins said she’s looking for more evidence that inflation is durably set to align with policymakers’ 2% target before moving to cut interest rates, though that step is likely “later this year.”Most Read from BloombergChina Replaces Top Markets Regulator as Xi Tries to End RoutHaley Loses Nevada Primary to ‘None of These Candidates’ OptionTesla Asks Which Jobs Are Critical, Stoking Layoff FearsTrump Denied Immunity in DC Election Cas</p></div></div></div></li><li class=\"js-stream-content Pos(r)\"><div class=\"Py(14px) Pos(r)\" data-test-locator=\"mega\"><div class=\"Cf\"><div class=\"Ov(h) Pend(14%) Pend(44px)--sm1024\"><div class=\"C(#959595) Fz(11px) D(ib) Mb(6px)\">Reuters</div><h3 class=\"Mb(5px)\"><a class=\"js-content-viewer wafer-caas Fw(b) Fz(18px) Lh(23px) LineClamp(2,46px) Fz(17px)--sm1024 Lh(19px)--sm1024 LineClamp(2,38px)--sm1024 mega-item-header-link Td(n) C(#0078ff):h C(#000) LineClamp(2,46px) LineClamp(2,38px)--sm1024 not-isInStreamVideoEnabled\" data-uuid=\"0d7f4b6a-5399-318f-b308-d39fd025981f\" data-wf-caas-prefetch=\"1\" data-wf-caas-uuid=\"0d7f4b6a-5399-318f-b308-d39fd025981f\" href=\"/news/1-us-fda-finds-control-175521172.html\"><u class=\"StretchedBox\"></u>UPDATE 1-US FDA finds control lapses at Catalent plant being sold to Novo</a></h3><p class=\"Fz(14px) Lh(19px) Fz(13px)--sm1024 Lh(17px)--sm1024 LineClamp(3,57px) LineClamp(3,51px)--sm1024 M(0)\">U.S. drug regulators in November found quality control lapses at the Bloomington, Indiana factory of contract drug manufacturer Catalent, including discovery of a \"pest\" on the manufacturing line, according to an inspection report.  Novo Holdings, the parent company of Novo Nordisk , on Monday announced it was buying Catalent in a $16.5 billion deal that included its Bloomington plant, which it plans to sell to Novo Nordisk to help it produce its popular weight-loss drug Wegovy.  Catalent is already the main supplier of fill-finish work, or filling and packaging syringes and injection pens in sterile condition for Wegovy.</p></div></div></div></li><li class=\"js-stream-content Pos(r)\"><div class=\"Py(14px) Pos(r)\" data-test-locator=\"mega\"><div class=\"Cf\"><div class=\"Fl(start) Pos(r) Mt(2px) W(26.5%) Maw(220px)\"><div class=\"H(0) Ov(h) Bdrs(2px)\" style=\"padding-bottom:56%\"><img alt=\"\" class=\"W(100%) Trsdu(0s)! Bdrs(2px)\" data-status=\"LOADING\" src=\"https://s.yimg.com/uu/api/res/1.2/rhqBMtmE5MdBURwtM_lSKA--~B/Zmk9c3RyaW07aD0xMjM7cT04MDt3PTIyMDthcHBpZD15dGFjaHlvbg--/https://media.zenfs.com/en/reuters-finance.com/5b40b3f8851dd2dfecfb422bcff247d1.cf.jpg\" srcset=\"https://s.yimg.com/uu/api/res/1.2/rhqBMtmE5MdBURwtM_lSKA--~B/Zmk9c3RyaW07aD0xMjM7cT04MDt3PTIyMDthcHBpZD15dGFjaHlvbg--/https://media.zenfs.com/en/reuters-finance.com/5b40b3f8851dd2dfecfb422bcff247d1.cf.jpg 1x,https://s.yimg.com/uu/api/res/1.2/8xMdEgGxYpYCW0Gwd9AmzQ--~B/Zmk9c3RyaW07aD0yNDY7cT04MDt3PTQ0MDthcHBpZD15dGFjaHlvbg--/https://media.zenfs.com/en/reuters-finance.com/5b40b3f8851dd2dfecfb422bcff247d1.cf.jpg 2x\"/></div></div><div class=\"Ov(h) Pend(44px) Pstart(25px)\"><div class=\"C(#959595) Fz(11px) D(ib) Mb(6px)\">Reuters</div><h3 class=\"Mb(5px)\"><a class=\"js-content-viewer wafer-caas Fw(b) Fz(18px) Lh(23px) LineClamp(2,46px) Fz(17px)--sm1024 Lh(19px)--sm1024 LineClamp(2,38px)--sm1024 mega-item-header-link Td(n) C(#0078ff):h C(#000) LineClamp(2,46px) LineClamp(2,38px)--sm1024 not-isInStreamVideoEnabled\" data-uuid=\"278c1197-cb06-3bf2-880b-7925e96da3be\" data-wf-caas-prefetch=\"1\" data-wf-caas-uuid=\"278c1197-cb06-3bf2-880b-7925e96da3be\" href=\"/news/analysis-china-battles-shore-battered-174642555.html\"><u class=\"StretchedBox\"></u>Analysis-As China battles to shore up battered markets, investors hold out for more</a></h3><p class=\"Fz(14px) Lh(19px) Fz(13px)--sm1024 Lh(17px)--sm1024 LineClamp(2,38px) LineClamp(2,34px)--sm1024 M(0)\">Yi Huiman was replaced as chairman of the China Securities Regulatory Commission, the CSRC, with Wu Qing, who has led the Shanghai Stock Exchange and served as a key deputy in Shanghai's municipal government.  While no reason was given for Yi's removal, it came after China's stock market hit a five-year low on Monday and investors scrambled to cut their losses.</p></div></div></div></li></ul>"
      ]
     },
     "execution_count": 21,
     "metadata": {},
     "output_type": "execute_result"
    }
   ],
   "source": [
    " news_ul[0]"
   ]
  },
  {
   "cell_type": "code",
   "execution_count": 37,
   "id": "2759416e",
   "metadata": {},
   "outputs": [
    {
     "name": "stdout",
     "output_type": "stream",
     "text": [
      "Title: UPDATE 1-Investor Ackman's Pershing Square launches new fund aimed at US retail investors\n",
      "Link: /news/1-investor-ackmans-pershing-square-181716608.html\n",
      "Date: Reuters\n",
      "Content: Billionaire investor William Ackman is offering a new hedge fund to U.S.-based retail investors, allowing Main Street to tap into his double digit performance gains previously reserved for Wall Street clients.  Ackman's Pershing Square Capital Management said in a regulatory filing on Wednesday that the firm is launching Pershing Square USA, an investment vehicle that will be listed on the New York Stock Exchange.  There will be no minimum investment, the fund will charge a flat 2% fee every year after the first year and it will be available to retail investors who lack the net worth needed to invest in hedge funds.\n",
      "\n",
      "\n",
      "Title: Las Vegas' 'fun economy' holds value of up to $13.7T: UNLV\n",
      "Link: /video/las-vegas-fun-economy-holds-181637777.html\n",
      "Date: Reuters\n",
      "Content: Las Vegas's so-called \"fun economy\" is worth an astonishing $13.7 trillion when accounting for tourism, sports, and entertainment revenue streams, according to the University of Nevada, Las Vegas' Zero Labs. This dwarfs the size of major sectors like healthcare, with Las Vegas' leisure and hospitality ecosystem estimated to be nearly 9 times larger than Big Pharma. These figures come as Nevada's Sin City preps to accommodate visiting football fans for the Super Bowl this Sunday, February 11. Yahoo Finance's Rachelle Akuffo and Akiko Fujita break down the details. For more expert insight and the latest market action, click here to watch this full episode of Yahoo Finance Live. Editor's note: This article was written by Angel Smith\n",
      "\n",
      "\n",
      "Title: S&P 500 Near 5,000 as Bonds Pare Drop After Sale: Markets Wrap\n",
      "Link: /news/us-bonds-rebound-china-bets-225511320.html\n",
      "Date: Reuters\n",
      "Content: (Bloomberg) -- Stocks climbed — with the S&P 500 approaching its 5,000 milestone — while bonds pared losses after a record sale of 10-year Treasuries.Most Read from BloombergChina Replaces Top Markets Regulator as Xi Tries to End RoutHaley Loses Nevada Primary to ‘None of These Candidates’ OptionTesla Asks Which Jobs Are Critical, Stoking Layoff FearsTrump Denied Immunity in DC Election Case by Appeals CourtUS Commercial Real Estate Contagion Is Now Moving to EuropeEquities extended a torrid sur\n",
      "\n",
      "\n",
      "Title: Pros and cons of moving to a new income tax state\n",
      "Link: /video/pros-cons-moving-income-tax-180514885.html\n",
      "Date: Reuters\n",
      "Content: According to U-Haul's 2023 growth index, Americans flocked to Texas and Florida and that, for the fourth year in a row, the state of California had the largest net loss of one-way movers. One of the reasons behind this move may be due to the fact that Florida and Texas are no income tax states. While having no income tax seems cost friendly, there are some down sides that Americans should keep in mind before making the big move. Yahoo Finance Reporter Rebecca Chen joins Yahoo Finance to help give insight into the pros and cons of moving to no income tax states. For more expert insight and the latest market action, click here to watch this full episode of Yahoo Finance Live. Editor's note: This article was written by Nicholas Jacobino\n",
      "\n",
      "\n",
      "Title: TradeStation to pay $3 mln to settle charges from SEC, states over unregistered crypto product\n",
      "Link: /news/tradestation-pay-3-mln-settle-180439948.html\n",
      "Date: Reuters\n",
      "Content: Cryptocurrency platform TradeStation Crypto will pay $3 million to settle charges from the U.S. securities regulator and multiple states that it offered and sold unregistered securities through an interest-earning program.  TradeStation failed to register its crypto lending product that allowed U.S. investors to deposit or purchase assets on TradeStation's platform in exchange for yield, the Securities and Exchange Commission said.\n",
      "\n",
      "\n",
      "Title: Snap's limited reach hampers ad growth compared to rivals\n",
      "Link: /video/snaps-limited-reach-hampers-ad-180318996.html\n",
      "Date: Reuters\n",
      "Content: Snap Inc. (SNAP) — the parent company of Snapchat — faces an uphill battle competing against other social media platforms for digital advertising revenue, Insider Intelligence Senior Director Jeremy Goldman tells Yahoo Finance. Snap shares have plunged on light 2024 guidance, as Goldman outlines it's a \"huge challenge\" for Snap to take on bigger players like Meta (META) for ad dollars. While Snap has its unique strengths, Goldman calls it a \"niche\" as advertisers consolidate budgets. For more expert insight and the latest market action, click here to watch this full episode of Yahoo Finance Live. Editor's note: This article was written by Angel Smith\n",
      "\n",
      "\n",
      "Title: Couche-Tard Gets €10 Billion in Orders to Refinance M&A Debt\n",
      "Link: /news/couche-tard-gets-10-billion-133320509.html\n",
      "Date: Reuters\n",
      "Content: (Bloomberg) -- Alimentation Couche-Tard Inc., which recently completed the purchase of almost 2,200 gasoline stations in Europe from TotalEnergies SE, got close to €10 billion ($10.8 billion) in orders for its first bond deal in the common currency in almost eight years to refinance acquisition debt. Most Read from BloombergChina Replaces Top Markets Regulator as Xi Tries to End RoutHaley Loses Nevada Primary to ‘None of These Candidates’ OptionTesla Asks Which Jobs Are Critical, Stoking Layoff\n",
      "\n",
      "\n",
      "Title: Fed’s Collins Sees Interest-Rate Cuts Coming ‘Later This Year’\n",
      "Link: /news/fed-collins-sees-interest-rate-163000536.html\n",
      "Date: Reuters\n",
      "Content: (Bloomberg) -- Federal Reserve Bank of Boston President Susan Collins said she’s looking for more evidence that inflation is durably set to align with policymakers’ 2% target before moving to cut interest rates, though that step is likely “later this year.”Most Read from BloombergChina Replaces Top Markets Regulator as Xi Tries to End RoutHaley Loses Nevada Primary to ‘None of These Candidates’ OptionTesla Asks Which Jobs Are Critical, Stoking Layoff FearsTrump Denied Immunity in DC Election Cas\n",
      "\n",
      "\n",
      "Title: UPDATE 1-US FDA finds control lapses at Catalent plant being sold to Novo\n",
      "Link: /news/1-us-fda-finds-control-175521172.html\n",
      "Date: Reuters\n",
      "Content: U.S. drug regulators in November found quality control lapses at the Bloomington, Indiana factory of contract drug manufacturer Catalent, including discovery of a \"pest\" on the manufacturing line, according to an inspection report.  Novo Holdings, the parent company of Novo Nordisk , on Monday announced it was buying Catalent in a $16.5 billion deal that included its Bloomington plant, which it plans to sell to Novo Nordisk to help it produce its popular weight-loss drug Wegovy.  Catalent is already the main supplier of fill-finish work, or filling and packaging syringes and injection pens in sterile condition for Wegovy.\n",
      "\n",
      "\n",
      "Title: Analysis-As China battles to shore up battered markets, investors hold out for more\n",
      "Link: /news/analysis-china-battles-shore-battered-174642555.html\n",
      "Date: Reuters\n",
      "Content: Yi Huiman was replaced as chairman of the China Securities Regulatory Commission, the CSRC, with Wu Qing, who has led the Shanghai Stock Exchange and served as a key deputy in Shanghai's municipal government.  While no reason was given for Yi's removal, it came after China's stock market hit a five-year low on Monday and investors scrambled to cut their losses.\n",
      "\n",
      "\n"
     ]
    }
   ],
   "source": [
    "news_items =  news_ul[0].find_all('li')\n",
    "new_data = \n",
    "for item in news_items:\n",
    "    # Extracting data for each news item\n",
    "#     source = item.select_one('.C(#959595)').text.strip()\n",
    "    content = item.find('p').text.strip()\n",
    "    title = item.find('a').text.strip()\n",
    "    link = item.find('a')['href']\n",
    "    date = news_items[0].find_all('div',{'class':'C(#959595)'})[0].text.strip()\n",
    "\n",
    "    # Print or store the extracted data\n",
    "    print(f\"Title: {title}\")\n",
    "    print(f\"Link: {link}\")\n",
    "    print(f\"Date: {date}\")\n",
    "    print(f\"Content: {content}\")\n",
    "    print(\"\\n\")"
   ]
  },
  {
   "cell_type": "code",
   "execution_count": 36,
   "id": "05137754",
   "metadata": {},
   "outputs": [
    {
     "data": {
      "text/plain": [
       "[<div class=\"C(#959595) Fz(11px) D(ib) Mb(6px)\">Reuters</div>]"
      ]
     },
     "execution_count": 36,
     "metadata": {},
     "output_type": "execute_result"
    }
   ],
   "source": [
    "news_items[0].find_all('div',{'class':'C(#959595)'})"
   ]
  }
 ],
 "metadata": {
  "kernelspec": {
   "display_name": "Python 3 (ipykernel)",
   "language": "python",
   "name": "python3"
  },
  "language_info": {
   "codemirror_mode": {
    "name": "ipython",
    "version": 3
   },
   "file_extension": ".py",
   "mimetype": "text/x-python",
   "name": "python",
   "nbconvert_exporter": "python",
   "pygments_lexer": "ipython3",
   "version": "3.10.9"
  }
 },
 "nbformat": 4,
 "nbformat_minor": 5
}
